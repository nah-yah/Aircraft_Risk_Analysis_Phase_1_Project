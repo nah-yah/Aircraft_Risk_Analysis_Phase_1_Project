{
 "cells": [
  {
   "cell_type": "markdown",
   "id": "3a76992e",
   "metadata": {},
   "source": [
    "# Aircraft risk analysis"
   ]
  },
  {
   "cell_type": "markdown",
   "id": "5eb6aff2",
   "metadata": {},
   "source": [
    "![airplane image](images/miguel-angel-sanz-yXE0zybDr-I-unsplash.jpg)"
   ]
  },
  {
   "cell_type": "markdown",
   "id": "0b9f49eb",
   "metadata": {},
   "source": [
    "# Table of contents\n",
    "1. [Overview](#Overview)\n",
    "2. [Business problem](#Business-problem)\n",
    "3. [Data understanding](#Data-understanding)\n",
    "4. [Data preparation](#Data-preparation)\n",
    "5. [Analysis](#Analysis)\n",
    "6. [Conclusion](#Conclusion)\n",
    "7. [Further discussions](#Further-discussions)"
   ]
  },
  {
   "cell_type": "markdown",
   "id": "64b28290",
   "metadata": {},
   "source": [
    "# Overview"
   ]
  },
  {
   "cell_type": "markdown",
   "id": "10183abe",
   "metadata": {},
   "source": [
    "This project aims to analyze historical aviation data from the National Transportation Safety Board (NTSB) spanning from 1962 to 2023. The dataset gathers near 88 889 records on aviation event. The project caters to a primary audience, the business stakeholders who need intuitve summaries and clear recommendations. The ultimate goal is to translate the findings into clear and actionable insights that support safer operational strategies. "
   ]
  },
  {
   "cell_type": "markdown",
   "id": "6bce25db",
   "metadata": {},
   "source": [
    "# Business problem"
   ]
  },
  {
   "cell_type": "markdown",
   "id": "ab918586",
   "metadata": {},
   "source": [
    "![flying airplane](images/robert-aardenburg-gnT4IGRS_1g-unsplash.jpg)"
   ]
  },
  {
   "cell_type": "markdown",
   "id": "defce3e4",
   "metadata": {},
   "source": [
    "A company is expanding in to new industries to diversify its portfolio. Specifically, they are interested in purchasing and operating airplanes for commercial and private enterprises, but do not know anything about the potential risks of aircraft. My task is to analyze aviation accident data to identify the safest aircraft models based on key factors, and to translate these findings into clear, actionable recommendations that the division can use to take informed decisions."
   ]
  },
  {
   "cell_type": "markdown",
   "id": "6f59e2d5",
   "metadata": {},
   "source": [
    "# Data understanding"
   ]
  },
  {
   "cell_type": "markdown",
   "id": "7cb59be9",
   "metadata": {},
   "source": [
    "The dataset from the NTSB includes detailed records for events, dating back to 1962, with unique identifiers for every aviation occurence. It captures key information such as the date and location of the event, the aircraft manufacturer and model, the damage extent, the fatality and injury counts, the weather condition, and the probable cause of the accident."
   ]
  },
  {
   "cell_type": "code",
   "execution_count": 156,
   "id": "63674277",
   "metadata": {},
   "outputs": [],
   "source": [
    "#import needed libraries\n",
    "import pandas as pd\n",
    "\n",
    "import warnings\n",
    "warnings.filterwarnings('ignore')"
   ]
  },
  {
   "cell_type": "code",
   "execution_count": 157,
   "id": "24583132",
   "metadata": {},
   "outputs": [],
   "source": [
    "#import datasets\n",
    "#dataset on aviation accidents records\n",
    "aviation = pd.read_csv(\"AviationData.csv\", encoding = 'latin1')\n",
    "\n",
    "#dataset on US states\n",
    "us_state = pd.read_csv(\"USState_Codes.csv\")"
   ]
  },
  {
   "cell_type": "code",
   "execution_count": 158,
   "id": "0ba97256",
   "metadata": {},
   "outputs": [
    {
     "name": "stdout",
     "output_type": "stream",
     "text": [
      "<class 'pandas.core.frame.DataFrame'>\n",
      "RangeIndex: 88889 entries, 0 to 88888\n",
      "Data columns (total 31 columns):\n",
      " #   Column                  Non-Null Count  Dtype  \n",
      "---  ------                  --------------  -----  \n",
      " 0   Event.Id                88889 non-null  object \n",
      " 1   Investigation.Type      88889 non-null  object \n",
      " 2   Accident.Number         88889 non-null  object \n",
      " 3   Event.Date              88889 non-null  object \n",
      " 4   Location                88837 non-null  object \n",
      " 5   Country                 88663 non-null  object \n",
      " 6   Latitude                34382 non-null  object \n",
      " 7   Longitude               34373 non-null  object \n",
      " 8   Airport.Code            50132 non-null  object \n",
      " 9   Airport.Name            52704 non-null  object \n",
      " 10  Injury.Severity         87889 non-null  object \n",
      " 11  Aircraft.damage         85695 non-null  object \n",
      " 12  Aircraft.Category       32287 non-null  object \n",
      " 13  Registration.Number     87507 non-null  object \n",
      " 14  Make                    88826 non-null  object \n",
      " 15  Model                   88797 non-null  object \n",
      " 16  Amateur.Built           88787 non-null  object \n",
      " 17  Number.of.Engines       82805 non-null  float64\n",
      " 18  Engine.Type             81793 non-null  object \n",
      " 19  FAR.Description         32023 non-null  object \n",
      " 20  Schedule                12582 non-null  object \n",
      " 21  Purpose.of.flight       82697 non-null  object \n",
      " 22  Air.carrier             16648 non-null  object \n",
      " 23  Total.Fatal.Injuries    77488 non-null  float64\n",
      " 24  Total.Serious.Injuries  76379 non-null  float64\n",
      " 25  Total.Minor.Injuries    76956 non-null  float64\n",
      " 26  Total.Uninjured         82977 non-null  float64\n",
      " 27  Weather.Condition       84397 non-null  object \n",
      " 28  Broad.phase.of.flight   61724 non-null  object \n",
      " 29  Report.Status           82505 non-null  object \n",
      " 30  Publication.Date        75118 non-null  object \n",
      "dtypes: float64(5), object(26)\n",
      "memory usage: 21.0+ MB\n"
     ]
    }
   ],
   "source": [
    "aviation.info()"
   ]
  },
  {
   "cell_type": "code",
   "execution_count": 159,
   "id": "01ec76f8",
   "metadata": {},
   "outputs": [
    {
     "name": "stdout",
     "output_type": "stream",
     "text": [
      "<class 'pandas.core.frame.DataFrame'>\n",
      "RangeIndex: 62 entries, 0 to 61\n",
      "Data columns (total 2 columns):\n",
      " #   Column        Non-Null Count  Dtype \n",
      "---  ------        --------------  ----- \n",
      " 0   US_State      62 non-null     object\n",
      " 1   Abbreviation  62 non-null     object\n",
      "dtypes: object(2)\n",
      "memory usage: 1.1+ KB\n"
     ]
    }
   ],
   "source": [
    "us_state.info()"
   ]
  },
  {
   "cell_type": "markdown",
   "id": "6e474972",
   "metadata": {},
   "source": [
    "## Aviation accidents dataset"
   ]
  },
  {
   "cell_type": "markdown",
   "id": "c718618e",
   "metadata": {},
   "source": [
    "Let's start by doing an exploration of the dataset so we can understand what we are working with."
   ]
  },
  {
   "cell_type": "code",
   "execution_count": 160,
   "id": "e0d904ff",
   "metadata": {},
   "outputs": [
    {
     "data": {
      "text/html": [
       "<div>\n",
       "<style scoped>\n",
       "    .dataframe tbody tr th:only-of-type {\n",
       "        vertical-align: middle;\n",
       "    }\n",
       "\n",
       "    .dataframe tbody tr th {\n",
       "        vertical-align: top;\n",
       "    }\n",
       "\n",
       "    .dataframe thead th {\n",
       "        text-align: right;\n",
       "    }\n",
       "</style>\n",
       "<table border=\"1\" class=\"dataframe\">\n",
       "  <thead>\n",
       "    <tr style=\"text-align: right;\">\n",
       "      <th></th>\n",
       "      <th>Event.Id</th>\n",
       "      <th>Investigation.Type</th>\n",
       "      <th>Accident.Number</th>\n",
       "      <th>Event.Date</th>\n",
       "      <th>Location</th>\n",
       "      <th>Country</th>\n",
       "      <th>Latitude</th>\n",
       "      <th>Longitude</th>\n",
       "      <th>Airport.Code</th>\n",
       "      <th>Airport.Name</th>\n",
       "      <th>...</th>\n",
       "      <th>Purpose.of.flight</th>\n",
       "      <th>Air.carrier</th>\n",
       "      <th>Total.Fatal.Injuries</th>\n",
       "      <th>Total.Serious.Injuries</th>\n",
       "      <th>Total.Minor.Injuries</th>\n",
       "      <th>Total.Uninjured</th>\n",
       "      <th>Weather.Condition</th>\n",
       "      <th>Broad.phase.of.flight</th>\n",
       "      <th>Report.Status</th>\n",
       "      <th>Publication.Date</th>\n",
       "    </tr>\n",
       "  </thead>\n",
       "  <tbody>\n",
       "    <tr>\n",
       "      <th>0</th>\n",
       "      <td>20001218X45444</td>\n",
       "      <td>Accident</td>\n",
       "      <td>SEA87LA080</td>\n",
       "      <td>1948-10-24</td>\n",
       "      <td>MOOSE CREEK, ID</td>\n",
       "      <td>United States</td>\n",
       "      <td>NaN</td>\n",
       "      <td>NaN</td>\n",
       "      <td>NaN</td>\n",
       "      <td>NaN</td>\n",
       "      <td>...</td>\n",
       "      <td>Personal</td>\n",
       "      <td>NaN</td>\n",
       "      <td>2.0</td>\n",
       "      <td>0.0</td>\n",
       "      <td>0.0</td>\n",
       "      <td>0.0</td>\n",
       "      <td>UNK</td>\n",
       "      <td>Cruise</td>\n",
       "      <td>Probable Cause</td>\n",
       "      <td>NaN</td>\n",
       "    </tr>\n",
       "    <tr>\n",
       "      <th>1</th>\n",
       "      <td>20001218X45447</td>\n",
       "      <td>Accident</td>\n",
       "      <td>LAX94LA336</td>\n",
       "      <td>1962-07-19</td>\n",
       "      <td>BRIDGEPORT, CA</td>\n",
       "      <td>United States</td>\n",
       "      <td>NaN</td>\n",
       "      <td>NaN</td>\n",
       "      <td>NaN</td>\n",
       "      <td>NaN</td>\n",
       "      <td>...</td>\n",
       "      <td>Personal</td>\n",
       "      <td>NaN</td>\n",
       "      <td>4.0</td>\n",
       "      <td>0.0</td>\n",
       "      <td>0.0</td>\n",
       "      <td>0.0</td>\n",
       "      <td>UNK</td>\n",
       "      <td>Unknown</td>\n",
       "      <td>Probable Cause</td>\n",
       "      <td>19-09-1996</td>\n",
       "    </tr>\n",
       "    <tr>\n",
       "      <th>2</th>\n",
       "      <td>20061025X01555</td>\n",
       "      <td>Accident</td>\n",
       "      <td>NYC07LA005</td>\n",
       "      <td>1974-08-30</td>\n",
       "      <td>Saltville, VA</td>\n",
       "      <td>United States</td>\n",
       "      <td>36.922223</td>\n",
       "      <td>-81.878056</td>\n",
       "      <td>NaN</td>\n",
       "      <td>NaN</td>\n",
       "      <td>...</td>\n",
       "      <td>Personal</td>\n",
       "      <td>NaN</td>\n",
       "      <td>3.0</td>\n",
       "      <td>NaN</td>\n",
       "      <td>NaN</td>\n",
       "      <td>NaN</td>\n",
       "      <td>IMC</td>\n",
       "      <td>Cruise</td>\n",
       "      <td>Probable Cause</td>\n",
       "      <td>26-02-2007</td>\n",
       "    </tr>\n",
       "    <tr>\n",
       "      <th>3</th>\n",
       "      <td>20001218X45448</td>\n",
       "      <td>Accident</td>\n",
       "      <td>LAX96LA321</td>\n",
       "      <td>1977-06-19</td>\n",
       "      <td>EUREKA, CA</td>\n",
       "      <td>United States</td>\n",
       "      <td>NaN</td>\n",
       "      <td>NaN</td>\n",
       "      <td>NaN</td>\n",
       "      <td>NaN</td>\n",
       "      <td>...</td>\n",
       "      <td>Personal</td>\n",
       "      <td>NaN</td>\n",
       "      <td>2.0</td>\n",
       "      <td>0.0</td>\n",
       "      <td>0.0</td>\n",
       "      <td>0.0</td>\n",
       "      <td>IMC</td>\n",
       "      <td>Cruise</td>\n",
       "      <td>Probable Cause</td>\n",
       "      <td>12-09-2000</td>\n",
       "    </tr>\n",
       "    <tr>\n",
       "      <th>4</th>\n",
       "      <td>20041105X01764</td>\n",
       "      <td>Accident</td>\n",
       "      <td>CHI79FA064</td>\n",
       "      <td>1979-08-02</td>\n",
       "      <td>Canton, OH</td>\n",
       "      <td>United States</td>\n",
       "      <td>NaN</td>\n",
       "      <td>NaN</td>\n",
       "      <td>NaN</td>\n",
       "      <td>NaN</td>\n",
       "      <td>...</td>\n",
       "      <td>Personal</td>\n",
       "      <td>NaN</td>\n",
       "      <td>1.0</td>\n",
       "      <td>2.0</td>\n",
       "      <td>NaN</td>\n",
       "      <td>0.0</td>\n",
       "      <td>VMC</td>\n",
       "      <td>Approach</td>\n",
       "      <td>Probable Cause</td>\n",
       "      <td>16-04-1980</td>\n",
       "    </tr>\n",
       "  </tbody>\n",
       "</table>\n",
       "<p>5 rows × 31 columns</p>\n",
       "</div>"
      ],
      "text/plain": [
       "         Event.Id Investigation.Type Accident.Number  Event.Date  \\\n",
       "0  20001218X45444           Accident      SEA87LA080  1948-10-24   \n",
       "1  20001218X45447           Accident      LAX94LA336  1962-07-19   \n",
       "2  20061025X01555           Accident      NYC07LA005  1974-08-30   \n",
       "3  20001218X45448           Accident      LAX96LA321  1977-06-19   \n",
       "4  20041105X01764           Accident      CHI79FA064  1979-08-02   \n",
       "\n",
       "          Location        Country   Latitude  Longitude Airport.Code  \\\n",
       "0  MOOSE CREEK, ID  United States        NaN        NaN          NaN   \n",
       "1   BRIDGEPORT, CA  United States        NaN        NaN          NaN   \n",
       "2    Saltville, VA  United States  36.922223 -81.878056          NaN   \n",
       "3       EUREKA, CA  United States        NaN        NaN          NaN   \n",
       "4       Canton, OH  United States        NaN        NaN          NaN   \n",
       "\n",
       "  Airport.Name  ... Purpose.of.flight Air.carrier Total.Fatal.Injuries  \\\n",
       "0          NaN  ...          Personal         NaN                  2.0   \n",
       "1          NaN  ...          Personal         NaN                  4.0   \n",
       "2          NaN  ...          Personal         NaN                  3.0   \n",
       "3          NaN  ...          Personal         NaN                  2.0   \n",
       "4          NaN  ...          Personal         NaN                  1.0   \n",
       "\n",
       "  Total.Serious.Injuries Total.Minor.Injuries Total.Uninjured  \\\n",
       "0                    0.0                  0.0             0.0   \n",
       "1                    0.0                  0.0             0.0   \n",
       "2                    NaN                  NaN             NaN   \n",
       "3                    0.0                  0.0             0.0   \n",
       "4                    2.0                  NaN             0.0   \n",
       "\n",
       "  Weather.Condition  Broad.phase.of.flight   Report.Status Publication.Date  \n",
       "0               UNK                 Cruise  Probable Cause              NaN  \n",
       "1               UNK                Unknown  Probable Cause       19-09-1996  \n",
       "2               IMC                 Cruise  Probable Cause       26-02-2007  \n",
       "3               IMC                 Cruise  Probable Cause       12-09-2000  \n",
       "4               VMC               Approach  Probable Cause       16-04-1980  \n",
       "\n",
       "[5 rows x 31 columns]"
      ]
     },
     "execution_count": 160,
     "metadata": {},
     "output_type": "execute_result"
    }
   ],
   "source": [
    "aviation.head()"
   ]
  },
  {
   "cell_type": "code",
   "execution_count": 161,
   "id": "c08aa601",
   "metadata": {},
   "outputs": [
    {
     "data": {
      "text/plain": [
       "count          88889\n",
       "unique         14782\n",
       "top       1982-05-16\n",
       "freq              25\n",
       "Name: Event.Date, dtype: object"
      ]
     },
     "execution_count": 161,
     "metadata": {},
     "output_type": "execute_result"
    }
   ],
   "source": [
    "aviation['Event.Date'].describe()"
   ]
  },
  {
   "cell_type": "code",
   "execution_count": 162,
   "id": "f43c8e32",
   "metadata": {},
   "outputs": [
    {
     "data": {
      "text/plain": [
       "Investigation.Type\n",
       "Accident    85015\n",
       "Incident     3874\n",
       "Name: count, dtype: int64"
      ]
     },
     "execution_count": 162,
     "metadata": {},
     "output_type": "execute_result"
    }
   ],
   "source": [
    "aviation['Investigation.Type'].value_counts()"
   ]
  },
  {
   "cell_type": "code",
   "execution_count": 163,
   "id": "d4daddc2",
   "metadata": {},
   "outputs": [
    {
     "data": {
      "text/plain": [
       "Country\n",
       "United States               82248\n",
       "Brazil                        374\n",
       "Canada                        359\n",
       "Mexico                        358\n",
       "United Kingdom                344\n",
       "                            ...  \n",
       "Mauritania                      1\n",
       "Pacific Ocean                   1\n",
       "Obyan                           1\n",
       "Guernsey                        1\n",
       "Turks and Caicos Islands        1\n",
       "Name: count, Length: 219, dtype: int64"
      ]
     },
     "execution_count": 163,
     "metadata": {},
     "output_type": "execute_result"
    }
   ],
   "source": [
    "aviation['Country'].value_counts()"
   ]
  },
  {
   "cell_type": "code",
   "execution_count": 164,
   "id": "fab4684e",
   "metadata": {},
   "outputs": [
    {
     "data": {
      "text/plain": [
       "Aircraft.Category\n",
       "Airplane             27617\n",
       "Helicopter            3440\n",
       "Glider                 508\n",
       "Balloon                231\n",
       "Gyrocraft              173\n",
       "Weight-Shift           161\n",
       "Powered Parachute       91\n",
       "Ultralight              30\n",
       "Unknown                 14\n",
       "WSFT                     9\n",
       "Powered-Lift             5\n",
       "Blimp                    4\n",
       "UNK                      2\n",
       "Rocket                   1\n",
       "ULTR                     1\n",
       "Name: count, dtype: int64"
      ]
     },
     "execution_count": 164,
     "metadata": {},
     "output_type": "execute_result"
    }
   ],
   "source": [
    "aviation['Aircraft.Category'].value_counts()"
   ]
  },
  {
   "cell_type": "code",
   "execution_count": 165,
   "id": "eaf74722",
   "metadata": {},
   "outputs": [
    {
     "data": {
      "text/plain": [
       "Broad.phase.of.flight\n",
       "Landing        15428\n",
       "Takeoff        12493\n",
       "Cruise         10269\n",
       "Maneuvering     8144\n",
       "Approach        6546\n",
       "Climb           2034\n",
       "Taxi            1958\n",
       "Descent         1887\n",
       "Go-around       1353\n",
       "Standing         945\n",
       "Unknown          548\n",
       "Other            119\n",
       "Name: count, dtype: int64"
      ]
     },
     "execution_count": 165,
     "metadata": {},
     "output_type": "execute_result"
    }
   ],
   "source": [
    "aviation['Broad.phase.of.flight'].value_counts()"
   ]
  },
  {
   "cell_type": "markdown",
   "id": "53a7256c",
   "metadata": {},
   "source": [
    "## US States dataset"
   ]
  },
  {
   "cell_type": "markdown",
   "id": "6308474d",
   "metadata": {},
   "source": [
    "This dataset contains informations about the US States and their abbreviation as well as abbreviation for othher countries and geographical spaces."
   ]
  },
  {
   "cell_type": "code",
   "execution_count": 166,
   "id": "8e746066",
   "metadata": {},
   "outputs": [
    {
     "data": {
      "text/html": [
       "<div>\n",
       "<style scoped>\n",
       "    .dataframe tbody tr th:only-of-type {\n",
       "        vertical-align: middle;\n",
       "    }\n",
       "\n",
       "    .dataframe tbody tr th {\n",
       "        vertical-align: top;\n",
       "    }\n",
       "\n",
       "    .dataframe thead th {\n",
       "        text-align: right;\n",
       "    }\n",
       "</style>\n",
       "<table border=\"1\" class=\"dataframe\">\n",
       "  <thead>\n",
       "    <tr style=\"text-align: right;\">\n",
       "      <th></th>\n",
       "      <th>US_State</th>\n",
       "      <th>Abbreviation</th>\n",
       "    </tr>\n",
       "  </thead>\n",
       "  <tbody>\n",
       "    <tr>\n",
       "      <th>0</th>\n",
       "      <td>Alabama</td>\n",
       "      <td>AL</td>\n",
       "    </tr>\n",
       "    <tr>\n",
       "      <th>1</th>\n",
       "      <td>Alaska</td>\n",
       "      <td>AK</td>\n",
       "    </tr>\n",
       "    <tr>\n",
       "      <th>2</th>\n",
       "      <td>Arizona</td>\n",
       "      <td>AZ</td>\n",
       "    </tr>\n",
       "    <tr>\n",
       "      <th>3</th>\n",
       "      <td>Arkansas</td>\n",
       "      <td>AR</td>\n",
       "    </tr>\n",
       "    <tr>\n",
       "      <th>4</th>\n",
       "      <td>California</td>\n",
       "      <td>CA</td>\n",
       "    </tr>\n",
       "  </tbody>\n",
       "</table>\n",
       "</div>"
      ],
      "text/plain": [
       "     US_State Abbreviation\n",
       "0     Alabama           AL\n",
       "1      Alaska           AK\n",
       "2     Arizona           AZ\n",
       "3    Arkansas           AR\n",
       "4  California           CA"
      ]
     },
     "execution_count": 166,
     "metadata": {},
     "output_type": "execute_result"
    }
   ],
   "source": [
    "us_state.head()"
   ]
  },
  {
   "cell_type": "code",
   "execution_count": 167,
   "id": "700008b0",
   "metadata": {},
   "outputs": [
    {
     "data": {
      "text/plain": [
       "count          62\n",
       "unique         62\n",
       "top       Alabama\n",
       "freq            1\n",
       "Name: US_State, dtype: object"
      ]
     },
     "execution_count": 167,
     "metadata": {},
     "output_type": "execute_result"
    }
   ],
   "source": [
    "us_state['US_State'].describe()"
   ]
  },
  {
   "cell_type": "markdown",
   "id": "8122eee3",
   "metadata": {},
   "source": [
    "# Data preparation"
   ]
  },
  {
   "cell_type": "markdown",
   "id": "2a735884",
   "metadata": {},
   "source": [
    "## Data cleaning"
   ]
  },
  {
   "cell_type": "markdown",
   "id": "6b454de9",
   "metadata": {},
   "source": [
    "The overall data cleaning process ensures the dataset is accurate, consistent, and ready for analysis. This will be done by handling missing data in NTSB aviation dataset, correcting data types, but also standardizing key fields."
   ]
  },
  {
   "cell_type": "markdown",
   "id": "14822a2e",
   "metadata": {},
   "source": [
    "### Structural data cleaning"
   ]
  },
  {
   "cell_type": "code",
   "execution_count": 168,
   "id": "ca8dc855",
   "metadata": {},
   "outputs": [],
   "source": [
    "#clean and standardize column names for consistency\n",
    "aviation.columns = (\n",
    "    aviation.columns\n",
    "    .str.strip()\n",
    "    .str.lower()\n",
    "    .str.replace('.', '_')\n",
    "    .str.replace(' ', '_')\n",
    ")\n",
    "\n",
    "us_state.columns = (\n",
    "    us_state.columns\n",
    "    .str.strip()\n",
    "    .str.lower()\n",
    "    .str.replace('.', '_')\n",
    "    .str.replace(' ', '_')\n",
    ")"
   ]
  },
  {
   "cell_type": "code",
   "execution_count": 169,
   "id": "96f0f6cf",
   "metadata": {},
   "outputs": [
    {
     "name": "stdout",
     "output_type": "stream",
     "text": [
      "event_id                   0.000000\n",
      "investigation_type         0.000000\n",
      "accident_number            0.000000\n",
      "event_date                 0.000000\n",
      "location                   0.058500\n",
      "country                    0.254250\n",
      "latitude                  61.320298\n",
      "longitude                 61.330423\n",
      "airport_code              43.601570\n",
      "airport_name              40.708074\n",
      "injury_severity            1.124999\n",
      "aircraft_damage            3.593246\n",
      "aircraft_category         63.677170\n",
      "registration_number        1.554748\n",
      "make                       0.070875\n",
      "model                      0.103500\n",
      "amateur_built              0.114750\n",
      "number_of_engines          6.844491\n",
      "engine_type                7.982990\n",
      "far_description           63.974170\n",
      "schedule                  85.845268\n",
      "purpose_of_flight          6.965991\n",
      "air_carrier               81.271023\n",
      "total_fatal_injuries      12.826109\n",
      "total_serious_injuries    14.073732\n",
      "total_minor_injuries      13.424608\n",
      "total_uninjured            6.650992\n",
      "weather_condition          5.053494\n",
      "broad_phase_of_flight     30.560587\n",
      "report_status              7.181991\n",
      "publication_date          15.492356\n",
      "dtype: float64\n"
     ]
    }
   ],
   "source": [
    "#identify columns with critical level of missing data\n",
    "print((aviation.isnull().sum() / len(aviation)) * 100)"
   ]
  },
  {
   "cell_type": "code",
   "execution_count": 170,
   "id": "92f2d98f",
   "metadata": {},
   "outputs": [],
   "source": [
    "#drop unnecessary columns and those with too many missing data\n",
    "dropped_col = [\n",
    "    'latitude', 'longitude', 'airport_code', 'airport_name',\n",
    "    'far_description', 'schedule', 'air_carrier',\n",
    "    'publication_date', 'report_status'\n",
    "]\n",
    "\n",
    "aviation = aviation.drop(columns = dropped_col)"
   ]
  },
  {
   "cell_type": "code",
   "execution_count": 171,
   "id": "19d84743",
   "metadata": {},
   "outputs": [],
   "source": [
    "#drop rows with too many missing data for important columns \n",
    "aviation = aviation.dropna(subset = ['model', 'registration_number', 'aircraft_category'])"
   ]
  },
  {
   "cell_type": "code",
   "execution_count": 172,
   "id": "1afa83f4",
   "metadata": {},
   "outputs": [],
   "source": [
    "#remove duplicates\n",
    "key_columns = ['accident_number', 'event_date', 'make', 'model', 'location']\n",
    "duplicates_key = aviation[aviation.duplicated(subset=key_columns, keep='first')]\n",
    "\n",
    "duplicates = ['accident_number', 'event_date', 'make', 'model', 'location']\n",
    "aviation = aviation.drop_duplicates(subset = duplicates, keep = 'first')"
   ]
  },
  {
   "cell_type": "code",
   "execution_count": 173,
   "id": "0e1e6af0",
   "metadata": {},
   "outputs": [],
   "source": [
    "aviation['make'] = aviation['make'].str.strip().str.replace(r'[.,/]', '', regex=True)"
   ]
  },
  {
   "cell_type": "markdown",
   "id": "4a849308",
   "metadata": {},
   "source": [
    "### Content-level data cleaning"
   ]
  },
  {
   "cell_type": "markdown",
   "id": "cff30f95",
   "metadata": {},
   "source": [
    "#### Handling missing values"
   ]
  },
  {
   "cell_type": "code",
   "execution_count": 174,
   "id": "5b6cc2f1",
   "metadata": {},
   "outputs": [],
   "source": [
    "#fill all categorical columns at once\n",
    "fill_cols = [\n",
    "    'location', 'country', 'aircraft_damage',\n",
    "    'make', 'model', 'engine_type', 'purpose_of_flight', 'broad_phase_of_flight'\n",
    "]\n",
    "\n",
    "aviation[fill_cols] = aviation[fill_cols].fillna('Unknown')"
   ]
  },
  {
   "cell_type": "code",
   "execution_count": 175,
   "id": "08678556",
   "metadata": {},
   "outputs": [],
   "source": [
    "#fill injury related column with 0\n",
    "injury_columns = ['total_fatal_injuries', 'total_serious_injuries',\n",
    "                  'total_minor_injuries', 'total_uninjured']\n",
    "aviation[injury_columns] = aviation[injury_columns].fillna(0).astype(int)"
   ]
  },
  {
   "cell_type": "code",
   "execution_count": 176,
   "id": "a318b027",
   "metadata": {},
   "outputs": [],
   "source": [
    "#standardization and filling\n",
    "aviation['amateur_built'] = (\n",
    "    aviation['amateur_built']\n",
    "    .str.strip()\n",
    "    .str.upper()\n",
    "    .fillna('Not reported')\n",
    ")\n",
    "\n",
    "aviation['engine_type'] = (\n",
    "    aviation['engine_type']\n",
    "    .replace({'UNK': 'Unknown'})\n",
    "    .fillna('Unknown')\n",
    ")\n",
    "\n",
    "aviation['weather_condition'] = (\n",
    "    aviation['weather_condition']\n",
    "    .replace({'Unk': 'Unknown', 'UNK': 'Unknown' })\n",
    "    .fillna('Unknown')\n",
    ")"
   ]
  },
  {
   "cell_type": "code",
   "execution_count": 177,
   "id": "d7666ab4",
   "metadata": {},
   "outputs": [],
   "source": [
    "aviation['number_of_engines'] = aviation['number_of_engines'].fillna(1)"
   ]
  },
  {
   "cell_type": "code",
   "execution_count": 178,
   "id": "721c9e6f",
   "metadata": {},
   "outputs": [],
   "source": [
    "aviation['injury_severity'] = aviation['injury_severity'].fillna('Unavailable')\n",
    "\n",
    "#clean data from removing text inside parentheses\n",
    "aviation['injury_severity'] = aviation['injury_severity'].str.split(\"(\").str[0]"
   ]
  },
  {
   "cell_type": "markdown",
   "id": "f0e763d3",
   "metadata": {},
   "source": [
    "#### Standardize key categorical fields and filter out irrelevant records"
   ]
  },
  {
   "cell_type": "code",
   "execution_count": 179,
   "id": "98861b75",
   "metadata": {},
   "outputs": [],
   "source": [
    "aviation['make'] = (\n",
    "    aviation['make']\n",
    "    .str.strip()\n",
    "    .str.upper()\n",
    ")\n",
    "\n",
    "aviation['model'] = (\n",
    "    aviation['model']\n",
    "    .str.strip()\n",
    "    .str.upper()\n",
    "    .str.replace(r'[-_\\s]+', '', regex = True)\n",
    ")"
   ]
  },
  {
   "cell_type": "markdown",
   "id": "f755fca8",
   "metadata": {},
   "source": [
    "Excluding test, ferry, and unknown purpose of flight helps focus on standard aircraft usage. This will ensure more accurate results when evaluating aircraft safety performance."
   ]
  },
  {
   "cell_type": "code",
   "execution_count": 180,
   "id": "d22f8f46",
   "metadata": {},
   "outputs": [],
   "source": [
    "test_flight = aviation['purpose_of_flight'].str.contains('Test|Ferry|Unknown', na = False)\n",
    "aviation = aviation[~test_flight]"
   ]
  },
  {
   "cell_type": "markdown",
   "id": "565116dc",
   "metadata": {},
   "source": [
    "## Calculations"
   ]
  },
  {
   "cell_type": "code",
   "execution_count": 181,
   "id": "7f082ca7",
   "metadata": {},
   "outputs": [],
   "source": [
    "aviation['event_date'] = pd.to_datetime(aviation['event_date'])\n",
    "\n",
    "aviation['event_year'] = aviation['event_date'].dt.year\n",
    "aviation['event_month'] = aviation['event_date'].dt.month_name()"
   ]
  },
  {
   "cell_type": "code",
   "execution_count": 182,
   "id": "8dc8fa99",
   "metadata": {},
   "outputs": [],
   "source": [
    "col_conversion = [\n",
    "    'number_of_engines', 'total_fatal_injuries',\n",
    "    'total_serious_injuries', 'total_minor_injuries',\n",
    "    'total_uninjured'\n",
    "]\n",
    "\n",
    "aviation[col_conversion] = aviation[col_conversion].astype(int)"
   ]
  },
  {
   "cell_type": "code",
   "execution_count": 183,
   "id": "c31e053b",
   "metadata": {},
   "outputs": [],
   "source": [
    "num_cols = [\n",
    "    'total_fatal_injuries', 'total_serious_injuries', \n",
    "    'total_minor_injuries', 'total_uninjured'\n",
    "]\n",
    "\n",
    "aviation['total_involved'] = aviation[num_cols].sum(axis = 1).astype(int)"
   ]
  },
  {
   "cell_type": "code",
   "execution_count": 184,
   "id": "3cea78f6",
   "metadata": {},
   "outputs": [],
   "source": [
    "damage_severity ={\n",
    "    'Destroyed' : 3,\n",
    "    'Substantial' : 2,\n",
    "    'Minor' : 1\n",
    "}\n",
    "\n",
    "aviation['damage_level'] = aviation['aircraft_damage'].map(damage_severity).fillna(0).astype(int)"
   ]
  },
  {
   "cell_type": "markdown",
   "id": "a00b9f15",
   "metadata": {},
   "source": [
    "## Merging datasets"
   ]
  },
  {
   "cell_type": "code",
   "execution_count": 185,
   "id": "889fbdea",
   "metadata": {},
   "outputs": [],
   "source": [
    "#split abbreviations from cities in locations\n",
    "aviation['state'] = aviation['location'].str.split(',').str[1].str.strip()"
   ]
  },
  {
   "cell_type": "code",
   "execution_count": 186,
   "id": "7a87b6ad",
   "metadata": {},
   "outputs": [],
   "source": [
    "cleaned_aviation = aviation.merge(\n",
    "    us_state,\n",
    "    left_on = 'state',\n",
    "    right_on = 'abbreviation',\n",
    "    how = 'left'\n",
    ").drop('abbreviation', axis = 1)"
   ]
  },
  {
   "cell_type": "code",
   "execution_count": 187,
   "id": "0029f78c",
   "metadata": {},
   "outputs": [],
   "source": [
    "cleaned_aviation.to_csv('CleanedAviationData.csv', index = False)"
   ]
  },
  {
   "cell_type": "code",
   "execution_count": 188,
   "id": "bdfaef8a",
   "metadata": {},
   "outputs": [
    {
     "name": "stdout",
     "output_type": "stream",
     "text": [
      "<class 'pandas.core.frame.DataFrame'>\n",
      "RangeIndex: 26134 entries, 0 to 26133\n",
      "Data columns (total 28 columns):\n",
      " #   Column                  Non-Null Count  Dtype         \n",
      "---  ------                  --------------  -----         \n",
      " 0   event_id                26134 non-null  object        \n",
      " 1   investigation_type      26134 non-null  object        \n",
      " 2   accident_number         26134 non-null  object        \n",
      " 3   event_date              26134 non-null  datetime64[ns]\n",
      " 4   location                26134 non-null  object        \n",
      " 5   country                 26134 non-null  object        \n",
      " 6   injury_severity         26134 non-null  object        \n",
      " 7   aircraft_damage         26134 non-null  object        \n",
      " 8   aircraft_category       26134 non-null  object        \n",
      " 9   registration_number     26134 non-null  object        \n",
      " 10  make                    26134 non-null  object        \n",
      " 11  model                   26134 non-null  object        \n",
      " 12  amateur_built           26134 non-null  object        \n",
      " 13  number_of_engines       26134 non-null  int64         \n",
      " 14  engine_type             26134 non-null  object        \n",
      " 15  purpose_of_flight       26134 non-null  object        \n",
      " 16  total_fatal_injuries    26134 non-null  int64         \n",
      " 17  total_serious_injuries  26134 non-null  int64         \n",
      " 18  total_minor_injuries    26134 non-null  int64         \n",
      " 19  total_uninjured         26134 non-null  int64         \n",
      " 20  weather_condition       26134 non-null  object        \n",
      " 21  broad_phase_of_flight   26134 non-null  object        \n",
      " 22  event_year              26134 non-null  int32         \n",
      " 23  event_month             26134 non-null  object        \n",
      " 24  total_involved          26134 non-null  int64         \n",
      " 25  damage_level            26134 non-null  int64         \n",
      " 26  state                   26121 non-null  object        \n",
      " 27  us_state                25459 non-null  object        \n",
      "dtypes: datetime64[ns](1), int32(1), int64(7), object(19)\n",
      "memory usage: 5.5+ MB\n"
     ]
    }
   ],
   "source": [
    "cleaned_aviation.info()"
   ]
  },
  {
   "cell_type": "code",
   "execution_count": 189,
   "id": "b04be5fe",
   "metadata": {},
   "outputs": [
    {
     "data": {
      "text/html": [
       "<div>\n",
       "<style scoped>\n",
       "    .dataframe tbody tr th:only-of-type {\n",
       "        vertical-align: middle;\n",
       "    }\n",
       "\n",
       "    .dataframe tbody tr th {\n",
       "        vertical-align: top;\n",
       "    }\n",
       "\n",
       "    .dataframe thead th {\n",
       "        text-align: right;\n",
       "    }\n",
       "</style>\n",
       "<table border=\"1\" class=\"dataframe\">\n",
       "  <thead>\n",
       "    <tr style=\"text-align: right;\">\n",
       "      <th></th>\n",
       "      <th>event_id</th>\n",
       "      <th>investigation_type</th>\n",
       "      <th>accident_number</th>\n",
       "      <th>event_date</th>\n",
       "      <th>location</th>\n",
       "      <th>country</th>\n",
       "      <th>injury_severity</th>\n",
       "      <th>aircraft_damage</th>\n",
       "      <th>aircraft_category</th>\n",
       "      <th>registration_number</th>\n",
       "      <th>...</th>\n",
       "      <th>total_minor_injuries</th>\n",
       "      <th>total_uninjured</th>\n",
       "      <th>weather_condition</th>\n",
       "      <th>broad_phase_of_flight</th>\n",
       "      <th>event_year</th>\n",
       "      <th>event_month</th>\n",
       "      <th>total_involved</th>\n",
       "      <th>damage_level</th>\n",
       "      <th>state</th>\n",
       "      <th>us_state</th>\n",
       "    </tr>\n",
       "  </thead>\n",
       "  <tbody>\n",
       "    <tr>\n",
       "      <th>0</th>\n",
       "      <td>20020909X01562</td>\n",
       "      <td>Accident</td>\n",
       "      <td>SEA82DA022</td>\n",
       "      <td>1982-01-01</td>\n",
       "      <td>PULLMAN, WA</td>\n",
       "      <td>United States</td>\n",
       "      <td>Non-Fatal</td>\n",
       "      <td>Substantial</td>\n",
       "      <td>Airplane</td>\n",
       "      <td>N2482N</td>\n",
       "      <td>...</td>\n",
       "      <td>0</td>\n",
       "      <td>2</td>\n",
       "      <td>VMC</td>\n",
       "      <td>Takeoff</td>\n",
       "      <td>1982</td>\n",
       "      <td>January</td>\n",
       "      <td>2</td>\n",
       "      <td>2</td>\n",
       "      <td>WA</td>\n",
       "      <td>Washington</td>\n",
       "    </tr>\n",
       "    <tr>\n",
       "      <th>1</th>\n",
       "      <td>20020909X01561</td>\n",
       "      <td>Accident</td>\n",
       "      <td>NYC82DA015</td>\n",
       "      <td>1982-01-01</td>\n",
       "      <td>EAST HANOVER, NJ</td>\n",
       "      <td>United States</td>\n",
       "      <td>Non-Fatal</td>\n",
       "      <td>Substantial</td>\n",
       "      <td>Airplane</td>\n",
       "      <td>N7967Q</td>\n",
       "      <td>...</td>\n",
       "      <td>0</td>\n",
       "      <td>2</td>\n",
       "      <td>IMC</td>\n",
       "      <td>Landing</td>\n",
       "      <td>1982</td>\n",
       "      <td>January</td>\n",
       "      <td>2</td>\n",
       "      <td>2</td>\n",
       "      <td>NJ</td>\n",
       "      <td>New Jersey</td>\n",
       "    </tr>\n",
       "    <tr>\n",
       "      <th>2</th>\n",
       "      <td>20020917X02148</td>\n",
       "      <td>Accident</td>\n",
       "      <td>FTW82FRJ07</td>\n",
       "      <td>1982-01-02</td>\n",
       "      <td>HOMER, LA</td>\n",
       "      <td>United States</td>\n",
       "      <td>Non-Fatal</td>\n",
       "      <td>Destroyed</td>\n",
       "      <td>Airplane</td>\n",
       "      <td>N14779</td>\n",
       "      <td>...</td>\n",
       "      <td>1</td>\n",
       "      <td>0</td>\n",
       "      <td>IMC</td>\n",
       "      <td>Cruise</td>\n",
       "      <td>1982</td>\n",
       "      <td>January</td>\n",
       "      <td>1</td>\n",
       "      <td>3</td>\n",
       "      <td>LA</td>\n",
       "      <td>Louisiana</td>\n",
       "    </tr>\n",
       "    <tr>\n",
       "      <th>3</th>\n",
       "      <td>20020917X02134</td>\n",
       "      <td>Accident</td>\n",
       "      <td>FTW82FRA14</td>\n",
       "      <td>1982-01-02</td>\n",
       "      <td>HEARNE, TX</td>\n",
       "      <td>United States</td>\n",
       "      <td>Fatal</td>\n",
       "      <td>Destroyed</td>\n",
       "      <td>Airplane</td>\n",
       "      <td>N758SK</td>\n",
       "      <td>...</td>\n",
       "      <td>0</td>\n",
       "      <td>0</td>\n",
       "      <td>IMC</td>\n",
       "      <td>Takeoff</td>\n",
       "      <td>1982</td>\n",
       "      <td>January</td>\n",
       "      <td>1</td>\n",
       "      <td>3</td>\n",
       "      <td>TX</td>\n",
       "      <td>Texas</td>\n",
       "    </tr>\n",
       "    <tr>\n",
       "      <th>4</th>\n",
       "      <td>20020917X02119</td>\n",
       "      <td>Accident</td>\n",
       "      <td>FTW82FPJ10</td>\n",
       "      <td>1982-01-02</td>\n",
       "      <td>CHICKASHA, OK</td>\n",
       "      <td>United States</td>\n",
       "      <td>Fatal</td>\n",
       "      <td>Destroyed</td>\n",
       "      <td>Airplane</td>\n",
       "      <td>N4876K</td>\n",
       "      <td>...</td>\n",
       "      <td>0</td>\n",
       "      <td>0</td>\n",
       "      <td>IMC</td>\n",
       "      <td>Cruise</td>\n",
       "      <td>1982</td>\n",
       "      <td>January</td>\n",
       "      <td>1</td>\n",
       "      <td>3</td>\n",
       "      <td>OK</td>\n",
       "      <td>Oklahoma</td>\n",
       "    </tr>\n",
       "  </tbody>\n",
       "</table>\n",
       "<p>5 rows × 28 columns</p>\n",
       "</div>"
      ],
      "text/plain": [
       "         event_id investigation_type accident_number event_date  \\\n",
       "0  20020909X01562           Accident      SEA82DA022 1982-01-01   \n",
       "1  20020909X01561           Accident      NYC82DA015 1982-01-01   \n",
       "2  20020917X02148           Accident      FTW82FRJ07 1982-01-02   \n",
       "3  20020917X02134           Accident      FTW82FRA14 1982-01-02   \n",
       "4  20020917X02119           Accident      FTW82FPJ10 1982-01-02   \n",
       "\n",
       "           location        country injury_severity aircraft_damage  \\\n",
       "0       PULLMAN, WA  United States       Non-Fatal     Substantial   \n",
       "1  EAST HANOVER, NJ  United States       Non-Fatal     Substantial   \n",
       "2         HOMER, LA  United States       Non-Fatal       Destroyed   \n",
       "3        HEARNE, TX  United States           Fatal       Destroyed   \n",
       "4     CHICKASHA, OK  United States           Fatal       Destroyed   \n",
       "\n",
       "  aircraft_category registration_number  ... total_minor_injuries  \\\n",
       "0          Airplane              N2482N  ...                    0   \n",
       "1          Airplane              N7967Q  ...                    0   \n",
       "2          Airplane              N14779  ...                    1   \n",
       "3          Airplane              N758SK  ...                    0   \n",
       "4          Airplane              N4876K  ...                    0   \n",
       "\n",
       "  total_uninjured weather_condition  broad_phase_of_flight event_year  \\\n",
       "0               2               VMC                Takeoff       1982   \n",
       "1               2               IMC                Landing       1982   \n",
       "2               0               IMC                 Cruise       1982   \n",
       "3               0               IMC                Takeoff       1982   \n",
       "4               0               IMC                 Cruise       1982   \n",
       "\n",
       "  event_month  total_involved  damage_level  state    us_state  \n",
       "0     January               2             2     WA  Washington  \n",
       "1     January               2             2     NJ  New Jersey  \n",
       "2     January               1             3     LA   Louisiana  \n",
       "3     January               1             3     TX       Texas  \n",
       "4     January               1             3     OK    Oklahoma  \n",
       "\n",
       "[5 rows x 28 columns]"
      ]
     },
     "execution_count": 189,
     "metadata": {},
     "output_type": "execute_result"
    }
   ],
   "source": [
    "cleaned_aviation.head()"
   ]
  },
  {
   "cell_type": "markdown",
   "id": "32855efa",
   "metadata": {},
   "source": [
    "# Analysis"
   ]
  },
  {
   "cell_type": "code",
   "execution_count": 190,
   "id": "cf1b56d4",
   "metadata": {},
   "outputs": [],
   "source": [
    "#import needed librairies\n",
    "import matplotlib\n",
    "import matplotlib.pyplot as plt\n",
    "\n",
    "#output the graph within the document\n",
    "%matplotlib inline"
   ]
  },
  {
   "cell_type": "code",
   "execution_count": 191,
   "id": "4be0fbf2",
   "metadata": {},
   "outputs": [],
   "source": [
    "#filter the accidents only from the dataset\n",
    "accidents = cleaned_aviation[cleaned_aviation['investigation_type'] == 'Accident']"
   ]
  },
  {
   "cell_type": "markdown",
   "id": "013145f5",
   "metadata": {},
   "source": [
    "## Aircraft manufacturers with highest number of accidents"
   ]
  },
  {
   "cell_type": "markdown",
   "id": "fdd6697a",
   "metadata": {},
   "source": [
    "We are going to start by groupin aviation accidents by aircraft manufacturer and count how many times each brand appeared in the dataset."
   ]
  },
  {
   "cell_type": "code",
   "execution_count": 192,
   "id": "e2be9897",
   "metadata": {},
   "outputs": [],
   "source": [
    "#group by make and accidents count\n",
    "make_accidents = accidents.groupby('make').size().reset_index(name = 'accidents_count')\n",
    "\n",
    "#get the top 10 of manufacturers by the number of accidents\n",
    "top_make_by_accidents = make_accidents.sort_values(by = 'accidents_count', ascending = False).head(10)"
   ]
  },
  {
   "cell_type": "code",
   "execution_count": 193,
   "id": "b6bdfb3e",
   "metadata": {},
   "outputs": [
    {
     "data": {
      "image/png": "[encoded data removed]",
      "text/plain": [
       "<Figure size 1000x600 with 1 Axes>"
      ]
     },
     "metadata": {},
     "output_type": "display_data"
    }
   ],
   "source": [
    "#create plot\n",
    "fig_1, ax_1 = plt.subplots(figsize = (10, 6))\n",
    "\n",
    "make_bars = ax_1.bar(top_make_by_accidents['make'], top_make_by_accidents['accidents_count'])\n",
    "\n",
    "ax_1.set_title('Top aircraft manufacturers by number of accidents')\n",
    "ax_1.set_xlabel('Manufacturer')\n",
    "ax_1.set_ylabel('Number of accidents')\n",
    "ax_1.bar_label(make_bars, labels = top_make_by_accidents['accidents_count'])\n",
    "\n",
    "#rotate labels for x-axis\n",
    "plt.xticks(rotation = 90)\n",
    "\n",
    "plt.show()"
   ]
  },
  {
   "cell_type": "markdown",
   "id": "cba9c142",
   "metadata": {},
   "source": [
    "Cessna has the highest number of reported accidents, followed by Piper and Beechcraft. While Cessna planes are involved in more accidents, this could reflect their popularity rather than poor safety performance. In order to clear up this confusion, analysis of severity and fatality rates is are gonna be needed."
   ]
  },
  {
   "cell_type": "markdown",
   "id": "d9b1a0f9",
   "metadata": {},
   "source": [
    "## Manufacturers with highest number of destroyed aircraft"
   ]
  },
  {
   "cell_type": "markdown",
   "id": "c52ce8b5",
   "metadata": {},
   "source": [
    "We are now going to filter for \"Destroyed\" aircraft damage and compared it to total accidents per manufacturer."
   ]
  },
  {
   "cell_type": "code",
   "execution_count": 194,
   "id": "b8a9f6bd",
   "metadata": {},
   "outputs": [],
   "source": [
    "#filter aircraft damage\n",
    "destroyed_accidents = accidents[accidents['aircraft_damage'] == 'Destroyed']"
   ]
  },
  {
   "cell_type": "code",
   "execution_count": 195,
   "id": "349a67bd",
   "metadata": {},
   "outputs": [],
   "source": [
    "make_destroyed = destroyed_accidents.groupby('make').size().reset_index(name = 'destroyed_count')\n",
    "top_makes_destroyed = make_destroyed.sort_values(by = 'destroyed_count', ascending = False).head(10)"
   ]
  },
  {
   "cell_type": "code",
   "execution_count": 196,
   "id": "f3d193e5",
   "metadata": {},
   "outputs": [
    {
     "data": {
      "image/png": "[encoded data removed]",
      "text/plain": [
       "<Figure size 1200x600 with 1 Axes>"
      ]
     },
     "metadata": {},
     "output_type": "display_data"
    }
   ],
   "source": [
    "#create plot\n",
    "fig_2, ax_2 = plt.subplots(figsize=(12, 6))\n",
    "bars = ax_2.bar(top_makes_destroyed['make'], top_makes_destroyed['destroyed_count'])\n",
    "\n",
    "ax_2.set_title('Top aircraft manufacturers involved in destroyed aircraft accidents')\n",
    "ax_2.set_xlabel('Manufacturer')\n",
    "ax_2.set_ylabel('Number of destroyed aircraft incidents')\n",
    "ax_2.bar_label(bars, labels=top_makes_destroyed['destroyed_count'])\n",
    "plt.xticks(rotation=45, ha='right')\n",
    "\n",
    "plt.show()"
   ]
  },
  {
   "cell_type": "markdown",
   "id": "552d67c3",
   "metadata": {},
   "source": [
    "Some manufacturers has a disproportionately high number of destroyed aircraft in accidents. Planes from those manufacturers may cost more to insure and repair which could affect long-term operational costs."
   ]
  },
  {
   "cell_type": "markdown",
   "id": "6fc307b5",
   "metadata": {},
   "source": [
    "## Models with the highest fatality rate"
   ]
  },
  {
   "cell_type": "code",
   "execution_count": 197,
   "id": "bfd1b543",
   "metadata": {},
   "outputs": [],
   "source": [
    "model_stats = accidents.groupby('model').agg(\n",
    "    total_accidents = ('model', 'size'),\n",
    "    total_fatalities = ('total_fatal_injuries', 'sum')\n",
    ").reset_index()"
   ]
  },
  {
   "cell_type": "code",
   "execution_count": 198,
   "id": "d6a1675a",
   "metadata": {},
   "outputs": [],
   "source": [
    "model_stats['fatality_rate'] = (model_stats['total_fatalities'] / model_stats['total_accidents']).round(2).fillna(0)"
   ]
  },
  {
   "cell_type": "code",
   "execution_count": 199,
   "id": "0255236a",
   "metadata": {},
   "outputs": [],
   "source": [
    "top_models = model_stats[model_stats['total_accidents'] >= 10]"
   ]
  },
  {
   "cell_type": "code",
   "execution_count": 200,
   "id": "aa7a790e",
   "metadata": {},
   "outputs": [
    {
     "data": {
      "text/html": [
       "<div>\n",
       "<style scoped>\n",
       "    .dataframe tbody tr th:only-of-type {\n",
       "        vertical-align: middle;\n",
       "    }\n",
       "\n",
       "    .dataframe tbody tr th {\n",
       "        vertical-align: top;\n",
       "    }\n",
       "\n",
       "    .dataframe thead th {\n",
       "        text-align: right;\n",
       "    }\n",
       "</style>\n",
       "<table border=\"1\" class=\"dataframe\">\n",
       "  <thead>\n",
       "    <tr style=\"text-align: right;\">\n",
       "      <th></th>\n",
       "      <th>model</th>\n",
       "      <th>total_accidents</th>\n",
       "      <th>total_fatalities</th>\n",
       "      <th>fatality_rate</th>\n",
       "    </tr>\n",
       "  </thead>\n",
       "  <tbody>\n",
       "    <tr>\n",
       "      <th>2746</th>\n",
       "      <td>PA31T</td>\n",
       "      <td>14</td>\n",
       "      <td>26</td>\n",
       "      <td>1.86</td>\n",
       "    </tr>\n",
       "    <tr>\n",
       "      <th>501</th>\n",
       "      <td>560</td>\n",
       "      <td>10</td>\n",
       "      <td>14</td>\n",
       "      <td>1.40</td>\n",
       "    </tr>\n",
       "    <tr>\n",
       "      <th>224</th>\n",
       "      <td>205</td>\n",
       "      <td>11</td>\n",
       "      <td>15</td>\n",
       "      <td>1.36</td>\n",
       "    </tr>\n",
       "    <tr>\n",
       "      <th>2739</th>\n",
       "      <td>PA31</td>\n",
       "      <td>17</td>\n",
       "      <td>21</td>\n",
       "      <td>1.24</td>\n",
       "    </tr>\n",
       "    <tr>\n",
       "      <th>3613</th>\n",
       "      <td>T310R</td>\n",
       "      <td>14</td>\n",
       "      <td>17</td>\n",
       "      <td>1.21</td>\n",
       "    </tr>\n",
       "    <tr>\n",
       "      <th>3617</th>\n",
       "      <td>T337G</td>\n",
       "      <td>10</td>\n",
       "      <td>12</td>\n",
       "      <td>1.20</td>\n",
       "    </tr>\n",
       "    <tr>\n",
       "      <th>378</th>\n",
       "      <td>340A</td>\n",
       "      <td>26</td>\n",
       "      <td>31</td>\n",
       "      <td>1.19</td>\n",
       "    </tr>\n",
       "    <tr>\n",
       "      <th>679</th>\n",
       "      <td>A35</td>\n",
       "      <td>11</td>\n",
       "      <td>13</td>\n",
       "      <td>1.18</td>\n",
       "    </tr>\n",
       "    <tr>\n",
       "      <th>983</th>\n",
       "      <td>B60</td>\n",
       "      <td>11</td>\n",
       "      <td>13</td>\n",
       "      <td>1.18</td>\n",
       "    </tr>\n",
       "    <tr>\n",
       "      <th>2757</th>\n",
       "      <td>PA32R300</td>\n",
       "      <td>46</td>\n",
       "      <td>53</td>\n",
       "      <td>1.15</td>\n",
       "    </tr>\n",
       "  </tbody>\n",
       "</table>\n",
       "</div>"
      ],
      "text/plain": [
       "         model  total_accidents  total_fatalities  fatality_rate\n",
       "2746     PA31T               14                26           1.86\n",
       "501        560               10                14           1.40\n",
       "224        205               11                15           1.36\n",
       "2739      PA31               17                21           1.24\n",
       "3613     T310R               14                17           1.21\n",
       "3617     T337G               10                12           1.20\n",
       "378       340A               26                31           1.19\n",
       "679        A35               11                13           1.18\n",
       "983        B60               11                13           1.18\n",
       "2757  PA32R300               46                53           1.15"
      ]
     },
     "execution_count": 200,
     "metadata": {},
     "output_type": "execute_result"
    }
   ],
   "source": [
    "top_fatal_models = top_models.sort_values(by = 'fatality_rate', ascending = False).head(10)\n",
    "top_fatal_models"
   ]
  },
  {
   "cell_type": "code",
   "execution_count": 201,
   "id": "f3d22e2e",
   "metadata": {},
   "outputs": [
    {
     "data": {
      "image/png": "[encoded data removed]",
      "text/plain": [
       "<Figure size 1200x600 with 1 Axes>"
      ]
     },
     "metadata": {},
     "output_type": "display_data"
    }
   ],
   "source": [
    "fig_3, ax_3 = plt.subplots(figsize = (12, 6))\n",
    "\n",
    "model_bars = ax_3.bar(top_fatal_models['model'], top_fatal_models['fatality_rate'])\n",
    "ax_3.set_xlabel('Aircraft model')\n",
    "ax_3.set_ylabel('Fatality rate')\n",
    "ax_3.set_title('Top aircraft with highest fatality rate')\n",
    "\n",
    "plt.show()\n"
   ]
  },
  {
   "cell_type": "markdown",
   "id": "2ed81ab9",
   "metadata": {},
   "source": [
    "Model like the Piper PA-31T has higher fatality rates compared to others with similar accident counts. Even if a model has fewer accidents, a high fatality rate suggests increased risk."
   ]
  },
  {
   "cell_type": "markdown",
   "id": "3a260162",
   "metadata": {},
   "source": [
    "## Change in aviation accidents over time"
   ]
  },
  {
   "cell_type": "code",
   "execution_count": 202,
   "id": "8662d51b",
   "metadata": {},
   "outputs": [
    {
     "data": {
      "text/html": [
       "<div>\n",
       "<style scoped>\n",
       "    .dataframe tbody tr th:only-of-type {\n",
       "        vertical-align: middle;\n",
       "    }\n",
       "\n",
       "    .dataframe tbody tr th {\n",
       "        vertical-align: top;\n",
       "    }\n",
       "\n",
       "    .dataframe thead th {\n",
       "        text-align: right;\n",
       "    }\n",
       "</style>\n",
       "<table border=\"1\" class=\"dataframe\">\n",
       "  <thead>\n",
       "    <tr style=\"text-align: right;\">\n",
       "      <th></th>\n",
       "      <th>event_year</th>\n",
       "      <th>accident_count</th>\n",
       "    </tr>\n",
       "  </thead>\n",
       "  <tbody>\n",
       "    <tr>\n",
       "      <th>0</th>\n",
       "      <td>1982</td>\n",
       "      <td>2804</td>\n",
       "    </tr>\n",
       "    <tr>\n",
       "      <th>1</th>\n",
       "      <td>1983</td>\n",
       "      <td>6</td>\n",
       "    </tr>\n",
       "    <tr>\n",
       "      <th>2</th>\n",
       "      <td>1984</td>\n",
       "      <td>4</td>\n",
       "    </tr>\n",
       "    <tr>\n",
       "      <th>3</th>\n",
       "      <td>1985</td>\n",
       "      <td>7</td>\n",
       "    </tr>\n",
       "    <tr>\n",
       "      <th>4</th>\n",
       "      <td>1986</td>\n",
       "      <td>7</td>\n",
       "    </tr>\n",
       "  </tbody>\n",
       "</table>\n",
       "</div>"
      ],
      "text/plain": [
       "   event_year  accident_count\n",
       "0        1982            2804\n",
       "1        1983               6\n",
       "2        1984               4\n",
       "3        1985               7\n",
       "4        1986               7"
      ]
     },
     "execution_count": 202,
     "metadata": {},
     "output_type": "execute_result"
    }
   ],
   "source": [
    "year_accidents = accidents.groupby('event_year').size().reset_index(name = 'accident_count')\n",
    "year_accidents.head(5)"
   ]
  },
  {
   "cell_type": "code",
   "execution_count": 203,
   "id": "cfa48889",
   "metadata": {},
   "outputs": [
    {
     "data": {
      "text/html": [
       "<div>\n",
       "<style scoped>\n",
       "    .dataframe tbody tr th:only-of-type {\n",
       "        vertical-align: middle;\n",
       "    }\n",
       "\n",
       "    .dataframe tbody tr th {\n",
       "        vertical-align: top;\n",
       "    }\n",
       "\n",
       "    .dataframe thead th {\n",
       "        text-align: right;\n",
       "    }\n",
       "</style>\n",
       "<table border=\"1\" class=\"dataframe\">\n",
       "  <thead>\n",
       "    <tr style=\"text-align: right;\">\n",
       "      <th></th>\n",
       "      <th>event_year</th>\n",
       "      <th>total_fatalities</th>\n",
       "    </tr>\n",
       "  </thead>\n",
       "  <tbody>\n",
       "    <tr>\n",
       "      <th>0</th>\n",
       "      <td>1982</td>\n",
       "      <td>1105</td>\n",
       "    </tr>\n",
       "    <tr>\n",
       "      <th>1</th>\n",
       "      <td>1983</td>\n",
       "      <td>13</td>\n",
       "    </tr>\n",
       "    <tr>\n",
       "      <th>2</th>\n",
       "      <td>1984</td>\n",
       "      <td>2</td>\n",
       "    </tr>\n",
       "    <tr>\n",
       "      <th>3</th>\n",
       "      <td>1985</td>\n",
       "      <td>19</td>\n",
       "    </tr>\n",
       "    <tr>\n",
       "      <th>4</th>\n",
       "      <td>1986</td>\n",
       "      <td>11</td>\n",
       "    </tr>\n",
       "  </tbody>\n",
       "</table>\n",
       "</div>"
      ],
      "text/plain": [
       "   event_year  total_fatalities\n",
       "0        1982              1105\n",
       "1        1983                13\n",
       "2        1984                 2\n",
       "3        1985                19\n",
       "4        1986                11"
      ]
     },
     "execution_count": 203,
     "metadata": {},
     "output_type": "execute_result"
    }
   ],
   "source": [
    "year_fatalities = accidents.groupby('event_year')['total_fatal_injuries'].sum().reset_index(name = 'total_fatalities')\n",
    "year_fatalities.head(5)"
   ]
  },
  {
   "cell_type": "code",
   "execution_count": 204,
   "id": "f9ccf33a",
   "metadata": {},
   "outputs": [
    {
     "data": {
      "image/png": "[encoded data removed]",
      "text/plain": [
       "<Figure size 1200x600 with 2 Axes>"
      ]
     },
     "metadata": {},
     "output_type": "display_data"
    }
   ],
   "source": [
    "fig_4, ax_4 = plt.subplots(figsize = (12, 6))\n",
    "\n",
    "ax_4.plot(year_accidents['event_year'], year_accidents['accident_count'], label = 'Accidents', color = 'blue')\n",
    "ax_4.set_xlabel('Year')\n",
    "ax_4.set_ylabel('Number of accidents', color = 'blue')\n",
    "\n",
    "ax_5 = ax_4.twinx()\n",
    "ax_5.plot(year_fatalities['event_year'], year_fatalities['total_fatalities'], label = 'Fatalities', color = 'red')\n",
    "ax_5.set_ylabel('Number of fatal accidents', color = 'red')\n",
    "\n",
    "plt.title('Accidents and fatalities over time')\n",
    "fig_4.legend()\n",
    "\n",
    "plt.show()"
   ]
  },
  {
   "cell_type": "markdown",
   "id": "0a340a80",
   "metadata": {},
   "source": [
    "There has been a steady decline in aviation accidents since the 1980s, indicating improving safety standards. Newer aircraft models benefit from improved design and regulations.\n"
   ]
  },
  {
   "cell_type": "markdown",
   "id": "cd6636de",
   "metadata": {},
   "source": [
    "## Injury severity distribution by aircraft category"
   ]
  },
  {
   "cell_type": "code",
   "execution_count": 205,
   "id": "22e2b2a0",
   "metadata": {},
   "outputs": [],
   "source": [
    "severity_by_type = accidents.groupby(\n",
    "    ['aircraft_category', 'injury_severity']\n",
    ").size().unstack(fill_value=0)"
   ]
  },
  {
   "cell_type": "code",
   "execution_count": 206,
   "id": "a8102766",
   "metadata": {},
   "outputs": [],
   "source": [
    "top_categories = severity_by_type.sum(axis = 1).sort_values(ascending = False).head(5).index\n",
    "severity_by_type = severity_by_type.loc[top_categories]"
   ]
  },
  {
   "cell_type": "code",
   "execution_count": 207,
   "id": "22be6a33",
   "metadata": {},
   "outputs": [
    {
     "data": {
      "text/html": [
       "<div>\n",
       "<style scoped>\n",
       "    .dataframe tbody tr th:only-of-type {\n",
       "        vertical-align: middle;\n",
       "    }\n",
       "\n",
       "    .dataframe tbody tr th {\n",
       "        vertical-align: top;\n",
       "    }\n",
       "\n",
       "    .dataframe thead th {\n",
       "        text-align: right;\n",
       "    }\n",
       "</style>\n",
       "<table border=\"1\" class=\"dataframe\">\n",
       "  <thead>\n",
       "    <tr style=\"text-align: right;\">\n",
       "      <th>injury_severity</th>\n",
       "      <th>Fatal</th>\n",
       "      <th>Serious</th>\n",
       "      <th>Minor</th>\n",
       "      <th>Non-Fatal</th>\n",
       "    </tr>\n",
       "    <tr>\n",
       "      <th>aircraft_category</th>\n",
       "      <th></th>\n",
       "      <th></th>\n",
       "      <th></th>\n",
       "      <th></th>\n",
       "    </tr>\n",
       "  </thead>\n",
       "  <tbody>\n",
       "    <tr>\n",
       "      <th>Airplane</th>\n",
       "      <td>3910</td>\n",
       "      <td>107</td>\n",
       "      <td>151</td>\n",
       "      <td>18094</td>\n",
       "    </tr>\n",
       "    <tr>\n",
       "      <th>Helicopter</th>\n",
       "      <td>422</td>\n",
       "      <td>17</td>\n",
       "      <td>28</td>\n",
       "      <td>1959</td>\n",
       "    </tr>\n",
       "    <tr>\n",
       "      <th>Glider</th>\n",
       "      <td>80</td>\n",
       "      <td>2</td>\n",
       "      <td>4</td>\n",
       "      <td>408</td>\n",
       "    </tr>\n",
       "    <tr>\n",
       "      <th>Balloon</th>\n",
       "      <td>17</td>\n",
       "      <td>6</td>\n",
       "      <td>0</td>\n",
       "      <td>201</td>\n",
       "    </tr>\n",
       "    <tr>\n",
       "      <th>Gyrocraft</th>\n",
       "      <td>34</td>\n",
       "      <td>0</td>\n",
       "      <td>5</td>\n",
       "      <td>120</td>\n",
       "    </tr>\n",
       "  </tbody>\n",
       "</table>\n",
       "</div>"
      ],
      "text/plain": [
       "injury_severity    Fatal  Serious  Minor  Non-Fatal\n",
       "aircraft_category                                  \n",
       "Airplane            3910      107    151      18094\n",
       "Helicopter           422       17     28       1959\n",
       "Glider                80        2      4        408\n",
       "Balloon               17        6      0        201\n",
       "Gyrocraft             34        0      5        120"
      ]
     },
     "execution_count": 207,
     "metadata": {},
     "output_type": "execute_result"
    }
   ],
   "source": [
    "severity_order = ['Fatal', 'Serious', 'Minor', 'Non-Fatal']\n",
    "severity_by_type = severity_by_type.reindex(columns = severity_order, fill_value = 0)\n",
    "severity_by_type"
   ]
  },
  {
   "cell_type": "code",
   "execution_count": 208,
   "id": "2b6a1c13",
   "metadata": {},
   "outputs": [
    {
     "data": {
      "image/png": "[encoded data removed]",
      "text/plain": [
       "<Figure size 1200x600 with 1 Axes>"
      ]
     },
     "metadata": {},
     "output_type": "display_data"
    }
   ],
   "source": [
    "fig_5, ax_6 = plt.subplots(figsize = (12, 6))\n",
    "bars = severity_by_type.plot.bar(stacked = True, ax = ax_6, color = [\n",
    "    'darkred', 'orangered', 'gold', 'lightgreen'\n",
    "])\n",
    "\n",
    "ax_6.set_title('Injury severity distribution by aircraft category')\n",
    "ax_6.set_xlabel('Aircraft category')\n",
    "ax_6.set_ylabel('Number of accidents')\n",
    "\n",
    "plt.legend(title='Injury severity')\n",
    "plt.show()"
   ]
  },
  {
   "cell_type": "markdown",
   "id": "f0d6eacd",
   "metadata": {},
   "source": [
    "Airplanes are involved in the most accidents overall due to their widespread use across personal, instructional, and business operations however they also have the highest number of non-fatal outcomes which suggests that while crashes are more frequent survival rates are relatively high"
   ]
  },
  {
   "cell_type": "markdown",
   "id": "40107bdf",
   "metadata": {},
   "source": [
    "## Type of built with safest track records"
   ]
  },
  {
   "cell_type": "code",
   "execution_count": 209,
   "id": "c28498d0",
   "metadata": {},
   "outputs": [],
   "source": [
    "accidents = accidents[accidents['injury_severity'].isin(severity_order)]\n",
    "accidents['fatal'] = accidents['injury_severity'] == 'Fatal'\n",
    "accidents_reviewed = accidents[accidents['amateur_built'] != 'Not reported']"
   ]
  },
  {
   "cell_type": "code",
   "execution_count": 210,
   "id": "6d9ad0ee",
   "metadata": {},
   "outputs": [],
   "source": [
    "built_stats = accidents_reviewed.groupby('amateur_built').agg(\n",
    "    total_accidents = ('fatal', 'size'),\n",
    "    fatal_accidents = ('fatal', 'sum')\n",
    ").reset_index()"
   ]
  },
  {
   "cell_type": "code",
   "execution_count": 211,
   "id": "68ed2d4e",
   "metadata": {},
   "outputs": [
    {
     "data": {
      "text/html": [
       "<div>\n",
       "<style scoped>\n",
       "    .dataframe tbody tr th:only-of-type {\n",
       "        vertical-align: middle;\n",
       "    }\n",
       "\n",
       "    .dataframe tbody tr th {\n",
       "        vertical-align: top;\n",
       "    }\n",
       "\n",
       "    .dataframe thead th {\n",
       "        text-align: right;\n",
       "    }\n",
       "</style>\n",
       "<table border=\"1\" class=\"dataframe\">\n",
       "  <thead>\n",
       "    <tr style=\"text-align: right;\">\n",
       "      <th></th>\n",
       "      <th>amateur_built</th>\n",
       "      <th>total_accidents</th>\n",
       "      <th>fatal_accidents</th>\n",
       "      <th>fatality_rate</th>\n",
       "    </tr>\n",
       "  </thead>\n",
       "  <tbody>\n",
       "    <tr>\n",
       "      <th>0</th>\n",
       "      <td>NO</td>\n",
       "      <td>22574</td>\n",
       "      <td>3828</td>\n",
       "      <td>0.17</td>\n",
       "    </tr>\n",
       "    <tr>\n",
       "      <th>1</th>\n",
       "      <td>YES</td>\n",
       "      <td>3272</td>\n",
       "      <td>711</td>\n",
       "      <td>0.22</td>\n",
       "    </tr>\n",
       "  </tbody>\n",
       "</table>\n",
       "</div>"
      ],
      "text/plain": [
       "  amateur_built  total_accidents  fatal_accidents  fatality_rate\n",
       "0            NO            22574             3828           0.17\n",
       "1           YES             3272              711           0.22"
      ]
     },
     "execution_count": 211,
     "metadata": {},
     "output_type": "execute_result"
    }
   ],
   "source": [
    "built_stats['fatality_rate'] = (built_stats['fatal_accidents'] / built_stats['total_accidents']).round(2).fillna(0)\n",
    "built_stats"
   ]
  },
  {
   "cell_type": "code",
   "execution_count": 212,
   "id": "4a5c8204",
   "metadata": {},
   "outputs": [
    {
     "data": {
      "image/png": "[encoded data removed]",
      "text/plain": [
       "<Figure size 800x600 with 1 Axes>"
      ]
     },
     "metadata": {},
     "output_type": "display_data"
    }
   ],
   "source": [
    "bar_width = 0.25\n",
    "index = built_stats.index\n",
    "\n",
    "fig_6, ax_7 = plt.subplots(figsize=(8, 6))\n",
    "\n",
    "bar1 = ax_7.bar(index, built_stats['total_accidents'], bar_width, label='Total accidents', color='blue')\n",
    "bar2 = ax_7.bar(index + bar_width, built_stats['fatal_accidents'], bar_width, label='Fatal accidents', color='red')\n",
    "\n",
    "ax_7.set_xlabel('Aircraft build type')\n",
    "ax_7.set_ylabel('Number of accidents')\n",
    "ax_7.set_title('Total vs fatal accidents by aircraft build type')\n",
    "ax_7.set_xticks(index + bar_width / 2)\n",
    "ax_7.set_xticklabels(built_stats['amateur_built'])\n",
    "ax_7.legend()\n",
    "\n",
    "plt.show()"
   ]
  },
  {
   "cell_type": "markdown",
   "id": "08380999",
   "metadata": {},
   "source": [
    "Amateur-built aircraft has a higher fatality rate despite being involved in fewer overall accidents. Unless there’s a compelling reason to buy amateur-built aircraft, factory-built planes appear safer and more predictable in terms of risk."
   ]
  },
  {
   "cell_type": "markdown",
   "id": "486e4c88",
   "metadata": {},
   "source": [
    "# Conclusion"
   ]
  },
  {
   "cell_type": "markdown",
   "id": "ddee208e",
   "metadata": {},
   "source": [
    "Based on the analysis conducted, here are three key recommendations to help the company make informed decisions when purchasing and operating aircraft:"
   ]
  },
  {
   "cell_type": "markdown",
   "id": "3fca5620",
   "metadata": {},
   "source": [
    "1. Prioritize factory-built aircraft over amateur-built models\n",
    "    * Unless there is a specific operational or cost-related reason to consider amateur-built aircraft, the company should prioritize purchasing factory-built models, which generally offer better safety records, more predictable maintenance and repair processes, and easier access to manufacturer support and spare parts.\n",
    "2. Avoid high-risk aircraft models with elevated fatality rates\n",
    "    * Avoid purchasing or limit exposure to these high-risk models. Instead, opt for models with lower historical fatality rates and higher survival rates in accidents. You may also consider focusing on more modern models with updated safety features and better-engineered crash survivability.\n",
    "3. Favor aircraft with lower accidents count\n",
    "    * Focus on acquiring aircraft category that have lower accidents count but also lower fatality rate. Additionally, you could analyze maintenance history and engine type to further refine risk assessment."
   ]
  },
  {
   "cell_type": "markdown",
   "id": "a1673145",
   "metadata": {},
   "source": [
    "# Further discussions"
   ]
  },
  {
   "cell_type": "markdown",
   "id": "09b461cc",
   "metadata": {},
   "source": [
    "If further analysis had been conducted, there would have been additional discussions that could provide deeper insights into aircraft risk and safety trends."
   ]
  },
  {
   "cell_type": "markdown",
   "id": "cbaaf7d3",
   "metadata": {},
   "source": [
    "1. Identify aircraft models with high recurrence of mechanical failures\n",
    "    * Some aircraft models may have recurring mechanical issues that increase risk over time. Identifying these can help avoid purchasing or operating planes prone to system failures.\n",
    "2.  Understand how weather conditions influence accident severity \n",
    "    * Weather plays a major role in aviation safety. Analyzing how different weather conditions affect accident outcomes helps assess operational risk under various flying environments.\n",
    "3. Predict likelihood of fatalities based on phase of flight\n",
    "    * Accidents during specific phases such as takeoff or landing may carry higher fatality risks. This analysis could reveal opportunities for targeted training or protocol improvements."
   ]
  }
 ],
 "metadata": {
  "kernelspec": {
   "display_name": "Python 3",
   "language": "python",
   "name": "python3"
  },
  "language_info": {
   "codemirror_mode": {
    "name": "ipython",
    "version": 3
   },
   "file_extension": ".py",
   "mimetype": "text/x-python",
   "name": "python",
   "nbconvert_exporter": "python",
   "pygments_lexer": "ipython3",
   "version": "3.13.2"
  }
 },
 "nbformat": 4,
 "nbformat_minor": 5
}
